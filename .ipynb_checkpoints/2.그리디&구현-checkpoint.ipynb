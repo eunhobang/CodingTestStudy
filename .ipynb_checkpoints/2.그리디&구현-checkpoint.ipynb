{
 "cells": [
  {
   "cell_type": "markdown",
   "id": "4b6eb58a",
   "metadata": {},
   "source": [
    "# 그리디(탐욕) 알고리즘\n",
    "\n",
    "현재 상황에서 가장 좋은 것만 고르는 방법.\n",
    "\n",
    "최적의 해를 보장할 수 없을 때가 많다.\n",
    "\n",
    "하지만 코테에서의 대부분의 그리디 문제는 탐욕법으로 얻은 해가 최적의 해가 되는 상황에서 이를 추론할 수 있어야함."
   ]
  },
  {
   "cell_type": "markdown",
   "id": "747fb674",
   "metadata": {},
   "source": [
    "## 1. 거스름 돈\n",
    "- 500, 100, 50, 10 이렇게 네 종류의 동전이 있을 때에 N이라는 거스름 돈을 줘야되는 상황에서 동전을 최소로 거슬러 주는 법\n",
    "- 화폐의 종류가 K라고 할 때, 소스코드의 시간 복잡도는 O(K)이다\n",
    "    - array = [500, 100, 50, 10]\n",
    "    - 시간 복잡도: O(4)"
   ]
  },
  {
   "cell_type": "code",
   "execution_count": 147,
   "id": "e8000dde",
   "metadata": {},
   "outputs": [
    {
     "name": "stdout",
     "output_type": "stream",
     "text": [
      "6\n"
     ]
    }
   ],
   "source": [
    "n = 1260\n",
    "count = 0\n",
    "\n",
    "array = [500, 100, 50, 10]\n",
    "for coin in array:\n",
    "    count+=n//coin\n",
    "    n=n%coin\n",
    "    \n",
    "print(count)"
   ]
  },
  {
   "cell_type": "markdown",
   "id": "3bd638d7",
   "metadata": {},
   "source": [
    "## 2. 1이 될 때까지 <공식 외우기>\n",
    "- N이 1이 될 때까지 아래 두 과정 반복\n",
    "    - N에서 1빼기\n",
    "    - N을 K로 나누기"
   ]
  },
  {
   "cell_type": "markdown",
   "id": "e3514b85",
   "metadata": {},
   "source": [
    "* 코드 자체는 이해가 되는데 다음에 또 풀라고 하면 못 풀듯"
   ]
  },
  {
   "cell_type": "code",
   "execution_count": 149,
   "id": "3cc6f1b5",
   "metadata": {},
   "outputs": [
    {
     "name": "stdout",
     "output_type": "stream",
     "text": [
      "25 5\n",
      "2\n"
     ]
    }
   ],
   "source": [
    "n, k = map(int,input().split())\n",
    "\n",
    "result = 0\n",
    "\n",
    "while True:\n",
    "    target=(n//k)*k\n",
    "    result+=(n-target)\n",
    "    n=target\n",
    "    \n",
    "    if n<k:\n",
    "        break\n",
    "    \n",
    "    result+=1\n",
    "    n//=k\n",
    "result+=(n-1)\n",
    "print(result)\n"
   ]
  },
  {
   "cell_type": "markdown",
   "id": "aab03e76",
   "metadata": {},
   "source": [
    "## 3. 곱하기 혹은 더하기\n",
    "- 입력된 숫자끼리 곱하거나 더해서 가장 큰 수 만들기\n",
    "    - 0과 1은 더하는 것이 더 큰 숫자를 만든다."
   ]
  },
  {
   "cell_type": "markdown",
   "id": "f73e5a17",
   "metadata": {},
   "source": [
    "### 내 풀이\n",
    "- 수정 전 문제점: 맨 앞에 1이 올 때\n",
    "    - Ex. 123 --> 12가 나옴(9가 나와야지 정상)\n",
    "- 수정한 부분: 2번 째 라인"
   ]
  },
  {
   "cell_type": "code",
   "execution_count": 150,
   "id": "f1f19494",
   "metadata": {},
   "outputs": [
    {
     "name": "stdout",
     "output_type": "stream",
     "text": [
      "123\n",
      "9\n"
     ]
    }
   ],
   "source": [
    "s = input()\n",
    "result = int(s[0])\n",
    "\n",
    "for i in range(1,len(s)):\n",
    "    if int(s[i])<=1 or result<=1:\n",
    "        result+=int(s[i])\n",
    "    else:\n",
    "        result*=int(s[i])\n",
    "\n",
    "print(result)\n"
   ]
  },
  {
   "cell_type": "markdown",
   "id": "3bbf08a5",
   "metadata": {},
   "source": [
    "### 강의 풀이"
   ]
  },
  {
   "cell_type": "code",
   "execution_count": 44,
   "id": "b8a5584d",
   "metadata": {},
   "outputs": [
    {
     "name": "stdout",
     "output_type": "stream",
     "text": [
      "123\n",
      "9\n"
     ]
    }
   ],
   "source": [
    "data = input()\n",
    "\n",
    "result = int(data[0])\n",
    "\n",
    "for i in range(1,len(data)):\n",
    "    num = int(data[i])\n",
    "    if num<=1 or result<=1:\n",
    "        result+=num\n",
    "    else:\n",
    "        result*=num\n",
    "        \n",
    "print(result)"
   ]
  },
  {
   "cell_type": "markdown",
   "id": "f2501a62",
   "metadata": {},
   "source": [
    "## 4. 모험가 길드 <문제 이해를 못 함>"
   ]
  },
  {
   "cell_type": "markdown",
   "id": "d73d1df7",
   "metadata": {},
   "source": [
    "### 내 풀이\n",
    "    - 테스트 케이스 결괏값은 똑같지만 문제를 잘못 이해해서 틀림"
   ]
  },
  {
   "cell_type": "code",
   "execution_count": 48,
   "id": "b75c9bf8",
   "metadata": {},
   "outputs": [
    {
     "name": "stdout",
     "output_type": "stream",
     "text": [
      "2\n"
     ]
    }
   ],
   "source": [
    "n = 5\n",
    "people = [2,3,1,2,2]\n",
    "\n",
    "people.sort()\n",
    "\n",
    "dummy = []\n",
    "result = 0\n",
    "\n",
    "for i in range(len(people)):\n",
    "    dummy.append(people[i])\n",
    "    if sum(dummy)>=n:\n",
    "        result+=1\n",
    "        dummy = []\n",
    "    else:\n",
    "        dummy.append(people[i])\n",
    "\n",
    "print(result)\n"
   ]
  },
  {
   "cell_type": "markdown",
   "id": "48b918b7",
   "metadata": {},
   "source": [
    "### 강의 풀이"
   ]
  },
  {
   "cell_type": "code",
   "execution_count": 49,
   "id": "bcd6d223",
   "metadata": {},
   "outputs": [
    {
     "name": "stdout",
     "output_type": "stream",
     "text": [
      "5\n",
      "2 3 1 2 2\n",
      "2\n"
     ]
    }
   ],
   "source": [
    "n = int(input())\n",
    "data = list(map(int,input().split()))\n",
    "data.sort()\n",
    "\n",
    "result = 0\n",
    "count = 0\n",
    "\n",
    "for i in data:\n",
    "    count+=1\n",
    "    if count>=i:\n",
    "        result+=1\n",
    "        count=0\n",
    "print(result)"
   ]
  },
  {
   "cell_type": "markdown",
   "id": "a9509e91",
   "metadata": {},
   "source": [
    "# 구현(Implementation)\n",
    "\n",
    "- 구현이란, 머릿속에 있는 알고리즘을 소스코드로 바꾸는 과정"
   ]
  },
  {
   "cell_type": "markdown",
   "id": "13c31d7d",
   "metadata": {},
   "source": [
    "## 5. 상화좌우\n",
    "\n",
    "- N * N 크기의 정사각형 공간\n",
    "- 가장 왼쪽 위 좌표는 (1,1)이고, 가장 오른쪽 아래 좌표는 (N,N)\n",
    "- 이동: L-왼쪽, R-오른쪽, U-위, D-아래\n",
    "- 이동 중 공간에서 벗어나면 무시"
   ]
  },
  {
   "cell_type": "markdown",
   "id": "614584b8",
   "metadata": {},
   "source": [
    "### 내 풀이\n",
    "    - 굳이 문자열에 반복문 걸어서 조건줄 필요가 없었음..(그래도 답은 맞음)"
   ]
  },
  {
   "cell_type": "code",
   "execution_count": 92,
   "id": "380ae9e9",
   "metadata": {},
   "outputs": [
    {
     "name": "stdout",
     "output_type": "stream",
     "text": [
      "5\n",
      "R R R R R D\n",
      "dx:  [0, 0, 0, 0, 0, 1]\n",
      "dy:  [1, 1, 1, 1, 1, 0]\n",
      "1  ||  2\n",
      "1  ||  3\n",
      "1  ||  4\n",
      "1  ||  5\n",
      "1  ||  5\n",
      "2  ||  5\n"
     ]
    }
   ],
   "source": [
    "# n = 5\n",
    "# move = 'RRRUDD'\n",
    "\n",
    "n = int(input())\n",
    "move = input().split()\n",
    "\n",
    "dx = []\n",
    "dy = []\n",
    "for m in move:\n",
    "    if m=='R':\n",
    "        dx.append(0)\n",
    "        dy.append(1)\n",
    "    elif m=='L':\n",
    "        dx.append(0)\n",
    "        dy.append(-1)\n",
    "    elif m=='U':\n",
    "        dx.append(-1)\n",
    "        dy.append(0)\n",
    "    elif m=='D':\n",
    "        dx.append(1)\n",
    "        dy.append(0)\n",
    "        \n",
    "print('dx: ', dx)\n",
    "print('dy: ', dy)\n",
    "# dx = [0,0,0,-1,1,1]\n",
    "# dy = [1,1,1,0,0,0]\n",
    "\n",
    "x,y = 1,1\n",
    "\n",
    "for i in range(len(dx)):\n",
    "    x+=dx[i]\n",
    "    y+=dy[i]\n",
    "    \n",
    "    if x==0:\n",
    "        x+=1\n",
    "    elif x>n:\n",
    "        x-=1\n",
    "    if y==0:\n",
    "        y+=1\n",
    "    elif y>n:\n",
    "        y-=1\n",
    "    \n",
    "    print(x,' || ',y)\n",
    "    \n",
    "#     break"
   ]
  },
  {
   "cell_type": "markdown",
   "id": "090311bb",
   "metadata": {},
   "source": [
    "### 강의 풀이"
   ]
  },
  {
   "cell_type": "code",
   "execution_count": 103,
   "id": "499a0094",
   "metadata": {},
   "outputs": [
    {
     "name": "stdout",
     "output_type": "stream",
     "text": [
      "5\n",
      "R R R U D D\n",
      "3 4\n"
     ]
    }
   ],
   "source": [
    "n = int(input())\n",
    "plans = input().split()\n",
    "#    L R U D\n",
    "dx = [0, 0, -1, 1]\n",
    "dy = [-1, 1, 0, 0]\n",
    "\n",
    "move_types = ['L','R','U','D']\n",
    "x,y = 1,1\n",
    "\n",
    "for plan in plans:\n",
    "\n",
    "    for i in range(len(move_types)):\n",
    "        if plan==move_types[i]:\n",
    "            nx = x+dx[i]\n",
    "            ny = y+dy[i]\n",
    "    if nx<1 or ny<1 or nx>n or ny>n:\n",
    "        continue\n",
    "    \n",
    "    x,y = nx, ny\n",
    "print(x,y)"
   ]
  },
  {
   "cell_type": "markdown",
   "id": "7c65e238",
   "metadata": {},
   "source": [
    "## 6. 시각 <외우기>\n",
    "- 정수 N입력\n",
    "- 00:00:00 ~ N:59:59에서 3이 하나라도 포함되는 경우의 수 구하기"
   ]
  },
  {
   "cell_type": "code",
   "execution_count": 141,
   "id": "12c2cc2f",
   "metadata": {},
   "outputs": [
    {
     "name": "stdout",
     "output_type": "stream",
     "text": [
      "5\n",
      "11475\n"
     ]
    }
   ],
   "source": [
    "h = int(input())\n",
    "\n",
    "count = 0\n",
    "for i in range(h+1):\n",
    "    for j in range(60):\n",
    "        for k in range(60):\n",
    "            if '3' in str(i)+str(j)+str(k):\n",
    "                count+=1\n",
    "print(count)"
   ]
  },
  {
   "cell_type": "markdown",
   "id": "20950851",
   "metadata": {},
   "source": [
    "## 7. 왕실의 나이트 <완전탐색/시뮬레이션 문제>\n",
    "\n",
    "- 수평으로 두 칸 이동한 뒤에 수직으로 한 칸 이동하기\n",
    "- 수직으로 두칸 이동한 뒤"
   ]
  },
  {
   "cell_type": "code",
   "execution_count": null,
   "id": "79425381",
   "metadata": {},
   "outputs": [],
   "source": [
    "dx = [1, 2, -1, 2]\n",
    "dy = [2, 1, 2, -1]"
   ]
  },
  {
   "cell_type": "code",
   "execution_count": null,
   "id": "73494754",
   "metadata": {},
   "outputs": [],
   "source": [
    "input_data = input()\n",
    "row = int(input_data)\n",
    "column = int(ord(input_data[0])) - int(ord('a')) +1"
   ]
  },
  {
   "cell_type": "code",
   "execution_count": null,
   "id": "4d1598c9",
   "metadata": {},
   "outputs": [],
   "source": []
  },
  {
   "cell_type": "code",
   "execution_count": null,
   "id": "938d930a",
   "metadata": {},
   "outputs": [],
   "source": []
  },
  {
   "cell_type": "code",
   "execution_count": null,
   "id": "9668bb1f",
   "metadata": {},
   "outputs": [],
   "source": []
  },
  {
   "cell_type": "code",
   "execution_count": null,
   "id": "b5c61448",
   "metadata": {},
   "outputs": [],
   "source": []
  },
  {
   "cell_type": "code",
   "execution_count": null,
   "id": "a0734f83",
   "metadata": {},
   "outputs": [],
   "source": []
  },
  {
   "cell_type": "code",
   "execution_count": null,
   "id": "2b5a59ca",
   "metadata": {},
   "outputs": [],
   "source": []
  }
 ],
 "metadata": {
  "kernelspec": {
   "display_name": "Python 3 (ipykernel)",
   "language": "python",
   "name": "python3"
  },
  "language_info": {
   "codemirror_mode": {
    "name": "ipython",
    "version": 3
   },
   "file_extension": ".py",
   "mimetype": "text/x-python",
   "name": "python",
   "nbconvert_exporter": "python",
   "pygments_lexer": "ipython3",
   "version": "3.9.7"
  }
 },
 "nbformat": 4,
 "nbformat_minor": 5
}
